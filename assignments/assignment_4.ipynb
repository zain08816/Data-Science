{
  "nbformat": 4,
  "nbformat_minor": 0,
  "metadata": {
    "colab": {
      "name": "assignment_4.ipynb",
      "provenance": [],
      "collapsed_sections": []
    },
    "kernelspec": {
      "name": "python3",
      "display_name": "Python 3"
    }
  },
  "cells": [
    {
      "cell_type": "code",
      "metadata": {
        "colab": {
          "base_uri": "https://localhost:8080/",
          "height": 419
        },
        "id": "tFLLsT604-Dh",
        "outputId": "05b550ff-2041-4e9e-e9b4-18a2c4ca6435"
      },
      "source": [
        "import pandas as pd\r\n",
        "\r\n",
        "creditDF = pd.read_csv('Credit_train.csv')\r\n",
        "testDF = pd.read_csv('Credit_test.csv')\r\n",
        "\r\n",
        "testDF.dropna()"
      ],
      "execution_count": 3,
      "outputs": [
        {
          "output_type": "execute_result",
          "data": {
            "text/html": [
              "<div>\n",
              "<style scoped>\n",
              "    .dataframe tbody tr th:only-of-type {\n",
              "        vertical-align: middle;\n",
              "    }\n",
              "\n",
              "    .dataframe tbody tr th {\n",
              "        vertical-align: top;\n",
              "    }\n",
              "\n",
              "    .dataframe thead th {\n",
              "        text-align: right;\n",
              "    }\n",
              "</style>\n",
              "<table border=\"1\" class=\"dataframe\">\n",
              "  <thead>\n",
              "    <tr style=\"text-align: right;\">\n",
              "      <th></th>\n",
              "      <th>BUSAGE</th>\n",
              "      <th>BUSTYPE</th>\n",
              "      <th>MAXLINEUTIL</th>\n",
              "      <th>DAYSDELQ</th>\n",
              "      <th>TOTACBAL</th>\n",
              "      <th>DEFAULT</th>\n",
              "    </tr>\n",
              "  </thead>\n",
              "  <tbody>\n",
              "    <tr>\n",
              "      <th>0</th>\n",
              "      <td>354.0</td>\n",
              "      <td>A</td>\n",
              "      <td>3.0425</td>\n",
              "      <td>0.0</td>\n",
              "      <td>152125.57</td>\n",
              "      <td>N</td>\n",
              "    </tr>\n",
              "    <tr>\n",
              "      <th>1</th>\n",
              "      <td>99.0</td>\n",
              "      <td>A</td>\n",
              "      <td>0.0000</td>\n",
              "      <td>0.0</td>\n",
              "      <td>151060.87</td>\n",
              "      <td>N</td>\n",
              "    </tr>\n",
              "    <tr>\n",
              "      <th>2</th>\n",
              "      <td>100.0</td>\n",
              "      <td>A</td>\n",
              "      <td>2.4507</td>\n",
              "      <td>0.0</td>\n",
              "      <td>122538.61</td>\n",
              "      <td>N</td>\n",
              "    </tr>\n",
              "    <tr>\n",
              "      <th>3</th>\n",
              "      <td>85.0</td>\n",
              "      <td>C</td>\n",
              "      <td>1.1397</td>\n",
              "      <td>0.0</td>\n",
              "      <td>113975.36</td>\n",
              "      <td>N</td>\n",
              "    </tr>\n",
              "    <tr>\n",
              "      <th>4</th>\n",
              "      <td>82.0</td>\n",
              "      <td>A</td>\n",
              "      <td>1.1241</td>\n",
              "      <td>0.0</td>\n",
              "      <td>112415.67</td>\n",
              "      <td>N</td>\n",
              "    </tr>\n",
              "    <tr>\n",
              "      <th>...</th>\n",
              "      <td>...</td>\n",
              "      <td>...</td>\n",
              "      <td>...</td>\n",
              "      <td>...</td>\n",
              "      <td>...</td>\n",
              "      <td>...</td>\n",
              "    </tr>\n",
              "    <tr>\n",
              "      <th>4765</th>\n",
              "      <td>12.0</td>\n",
              "      <td>A</td>\n",
              "      <td>0.0006</td>\n",
              "      <td>0.0</td>\n",
              "      <td>3.17</td>\n",
              "      <td>N</td>\n",
              "    </tr>\n",
              "    <tr>\n",
              "      <th>4766</th>\n",
              "      <td>93.0</td>\n",
              "      <td>A</td>\n",
              "      <td>0.0000</td>\n",
              "      <td>0.0</td>\n",
              "      <td>1.80</td>\n",
              "      <td>N</td>\n",
              "    </tr>\n",
              "    <tr>\n",
              "      <th>4767</th>\n",
              "      <td>313.0</td>\n",
              "      <td>B</td>\n",
              "      <td>0.0000</td>\n",
              "      <td>0.0</td>\n",
              "      <td>1.00</td>\n",
              "      <td>N</td>\n",
              "    </tr>\n",
              "    <tr>\n",
              "      <th>4768</th>\n",
              "      <td>13.0</td>\n",
              "      <td>A</td>\n",
              "      <td>0.0000</td>\n",
              "      <td>0.0</td>\n",
              "      <td>0.75</td>\n",
              "      <td>N</td>\n",
              "    </tr>\n",
              "    <tr>\n",
              "      <th>4769</th>\n",
              "      <td>41.0</td>\n",
              "      <td>A</td>\n",
              "      <td>0.0000</td>\n",
              "      <td>0.0</td>\n",
              "      <td>0.02</td>\n",
              "      <td>N</td>\n",
              "    </tr>\n",
              "  </tbody>\n",
              "</table>\n",
              "<p>4706 rows × 6 columns</p>\n",
              "</div>"
            ],
            "text/plain": [
              "      BUSAGE BUSTYPE  MAXLINEUTIL  DAYSDELQ   TOTACBAL DEFAULT\n",
              "0      354.0       A       3.0425       0.0  152125.57       N\n",
              "1       99.0       A       0.0000       0.0  151060.87       N\n",
              "2      100.0       A       2.4507       0.0  122538.61       N\n",
              "3       85.0       C       1.1397       0.0  113975.36       N\n",
              "4       82.0       A       1.1241       0.0  112415.67       N\n",
              "...      ...     ...          ...       ...        ...     ...\n",
              "4765    12.0       A       0.0006       0.0       3.17       N\n",
              "4766    93.0       A       0.0000       0.0       1.80       N\n",
              "4767   313.0       B       0.0000       0.0       1.00       N\n",
              "4768    13.0       A       0.0000       0.0       0.75       N\n",
              "4769    41.0       A       0.0000       0.0       0.02       N\n",
              "\n",
              "[4706 rows x 6 columns]"
            ]
          },
          "metadata": {
            "tags": []
          },
          "execution_count": 3
        }
      ]
    },
    {
      "cell_type": "code",
      "metadata": {
        "colab": {
          "base_uri": "https://localhost:8080/"
        },
        "id": "mqIAx4N3708_",
        "outputId": "c2d55dd3-2d74-4b1a-d231-821424e8c576"
      },
      "source": [
        "%load_ext rpy2.ipython"
      ],
      "execution_count": 4,
      "outputs": [
        {
          "output_type": "stream",
          "text": [
            "/usr/local/lib/python3.6/dist-packages/rpy2/robjects/pandas2ri.py:14: FutureWarning: pandas.core.index is deprecated and will be removed in a future version.  The public classes are available in the top-level namespace.\n",
            "  from pandas.core.index import Index as PandasIndex\n",
            "/usr/local/lib/python3.6/dist-packages/rpy2/robjects/pandas2ri.py:34: UserWarning: pandas >= 1.0 is not supported.\n",
            "  warnings.warn('pandas >= 1.0 is not supported.')\n"
          ],
          "name": "stderr"
        }
      ]
    },
    {
      "cell_type": "code",
      "metadata": {
        "colab": {
          "base_uri": "https://localhost:8080/"
        },
        "id": "0gavAD4w6bSZ",
        "outputId": "16020638-6ecb-4f94-84db-2b3c1aba8d16"
      },
      "source": [
        "# Question 2.\r\n",
        "# train\r\n",
        "frq = creditDF.groupby('DEFAULT').size()\r\n",
        "maxFRQ = frq.sort_values(ascending=False)\r\n",
        "zeroR = maxFRQ.head(n=1).index[0]\r\n",
        "\r\n",
        "print(\"zeroR:\", zeroR)\r\n",
        "\r\n",
        "# test\r\n",
        "count = testDF['DEFAULT'].size\r\n",
        "error = len(testDF.loc[testDF['DEFAULT'] != zeroR].dropna())\r\n",
        "other_error = len(testDF.loc[testDF['DEFAULT'] != 'Y'].dropna())\r\n",
        "acc_error = 1-(error/(error+other_error))\r\n",
        "accuracy = 1-(error/count)\r\n",
        "\r\n",
        "print(\"count:\", count)\r\n",
        "print(\"error:\", error)\r\n",
        "print(\"other_error:\", other_error)\r\n",
        "print(\"error sum:\", error+other_error)\r\n",
        "##########\r\n",
        "print(\"acc_error:\", acc_error)\r\n",
        "##########\r\n",
        "print(\"accuracy:\", accuracy)"
      ],
      "execution_count": 6,
      "outputs": [
        {
          "output_type": "stream",
          "text": [
            "zeroR: N\n",
            "count: 7072\n",
            "error: 409\n",
            "other_error: 4297\n",
            "error sum: 4706\n",
            "acc_error: 0.9130896727581811\n",
            "accuracy: 0.9421662895927602\n"
          ],
          "name": "stdout"
        }
      ]
    },
    {
      "cell_type": "code",
      "metadata": {
        "colab": {
          "base_uri": "https://localhost:8080/"
        },
        "id": "t5p-tRqZFm1p",
        "outputId": "f2e66120-10ec-4369-fa0b-da1af8c5ec3e"
      },
      "source": [
        "# Question 3.\r\n",
        "# drop nan's\r\n",
        "creditDFnoNAN = creditDF.dropna()\r\n",
        "testDFnoNAN = testDF.dropna()\r\n",
        "\r\n",
        "def oneR(column_name, checkingErrors=False):\r\n",
        "  ct = pd.crosstab(creditDF[column_name], creditDF['DEFAULT'], dropna=True)\r\n",
        "\r\n",
        "  df_data = []\r\n",
        "  for row in ct.index.values:\r\n",
        "    maximalYesNo = ct.loc[row].sort_values(ascending=False).index[0]\r\n",
        "    df_data.append([row, maximalYesNo])\r\n",
        "    # print(f\"Row {row}:\", maximalYesNo)\r\n",
        "\r\n",
        "  daysdelq_df = pd.DataFrame(df_data, columns=[column_name, 'Prediction'])\r\n",
        "\r\n",
        "  correct = 0\r\n",
        "  error = 0\r\n",
        "  for index in testDFnoNAN.index.values:\r\n",
        "    row = testDFnoNAN.loc[index]\r\n",
        "    modelRow = daysdelq_df.loc[daysdelq_df[column_name] == row[column_name]]\r\n",
        "    try:\r\n",
        "      # print(modelRow)\r\n",
        "      # print(row['DEFAULT'])\r\n",
        "      # print(\"Actual:\", row['DEFAULT'])\r\n",
        "      if modelRow['Prediction'][0] == row['DEFAULT']:\r\n",
        "        correct += 1\r\n",
        "      else:\r\n",
        "        error += 1\r\n",
        "    except:\r\n",
        "      pass\r\n",
        "\r\n",
        "  if checkingErrors:\r\n",
        "    return error/len(testDFnoNAN)\r\n",
        "  else:\r\n",
        "    return correct/len(testDFnoNAN)\r\n",
        "\r\n",
        "for elem in ['DAYSDELQ', 'BUSAGE', 'BUSTYPE', 'MAXLINEUTIL', 'TOTACBAL']:\r\n",
        "  print(elem, \":\", oneR(elem)) "
      ],
      "execution_count": 26,
      "outputs": [
        {
          "output_type": "stream",
          "text": [
            "DAYSDELQ : 0.9028899277518062\n",
            "BUSAGE : 0.0\n",
            "BUSTYPE : 0.5486612834679133\n",
            "MAXLINEUTIL : 0.22290692732681683\n",
            "TOTACBAL : 0.0\n"
          ],
          "name": "stdout"
        }
      ]
    },
    {
      "cell_type": "code",
      "metadata": {
        "colab": {
          "base_uri": "https://localhost:8080/"
        },
        "id": "GPxbomovH3yI",
        "outputId": "abbd5fbb-8277-4eda-ff54-0c9657106916"
      },
      "source": [
        "# Question 4.\r\n",
        "print('DAYSDELQ:', oneR('DAYSDELQ', checkingErrors=True))"
      ],
      "execution_count": 283,
      "outputs": [
        {
          "output_type": "stream",
          "text": [
            "DAYSDELQ: 0.08202294942626434\n"
          ],
          "name": "stdout"
        }
      ]
    },
    {
      "cell_type": "code",
      "metadata": {
        "colab": {
          "base_uri": "https://localhost:8080/"
        },
        "id": "UTs1_i-aK8Dr",
        "outputId": "0f19e531-8e46-4486-e71b-7137f071bedb"
      },
      "source": [
        "# Question 5.\r\n",
        "# generate confusion matrix\r\n",
        "cm = [[18, 11],\r\n",
        "      [391, 4286]]\r\n",
        "# sensitivity\r\n",
        "sensitivity = cm[0][0]/(cm[0][0]+cm[1][0])\r\n",
        "print('Sensitivity:', sensitivity)"
      ],
      "execution_count": 46,
      "outputs": [
        {
          "output_type": "stream",
          "text": [
            "Sensitivity: 0.044009779951100246\n"
          ],
          "name": "stdout"
        }
      ]
    },
    {
      "cell_type": "code",
      "metadata": {
        "colab": {
          "base_uri": "https://localhost:8080/"
        },
        "id": "DZS5lcJnNovo",
        "outputId": "afb87867-94dd-487e-e66d-ec6088f22e0e"
      },
      "source": [
        "# Question 6.\r\n",
        "# P(C|X) = (P(X|C) * P(C))/P(X)\r\n",
        "(0.1*0.4)/0.5 # P(C|X)"
      ],
      "execution_count": 47,
      "outputs": [
        {
          "output_type": "execute_result",
          "data": {
            "text/plain": [
              "0.08000000000000002"
            ]
          },
          "metadata": {
            "tags": []
          },
          "execution_count": 47
        }
      ]
    },
    {
      "cell_type": "code",
      "metadata": {
        "colab": {
          "base_uri": "https://localhost:8080/"
        },
        "id": "ULjcKp8AONXt",
        "outputId": "d2fa4867-b046-4f25-eea3-be0fd8fc078b"
      },
      "source": [
        "# Question 7.\r\n",
        "# generate confusion matrix\r\n",
        "cm = [[15, 10],\r\n",
        "      [394, 4287]]\r\n",
        "# accuracy\r\n",
        "accuracy=(cm[0][0]+cm[1][1])/(cm[0][0]+cm[0][1]+cm[1][0]+cm[1][1])\r\n",
        "print ('Accuracy:', accuracy)\r\n",
        "\r\n",
        "# sensitivity\r\n",
        "sensitivity = cm[0][0]/(cm[0][0]+cm[1][0])\r\n",
        "print('Sensitivity:', sensitivity)"
      ],
      "execution_count": 51,
      "outputs": [
        {
          "output_type": "stream",
          "text": [
            "Accuracy: 0.9141521461963451\n",
            "Sensitivity: 0.03667481662591687\n"
          ],
          "name": "stdout"
        }
      ]
    },
    {
      "cell_type": "code",
      "metadata": {
        "colab": {
          "base_uri": "https://localhost:8080/",
          "height": 514
        },
        "id": "OzZPwkSvPHOi",
        "outputId": "f08ea261-a8c7-44ae-faae-7a7d2c925d67"
      },
      "source": [
        "%%R\r\n",
        "# Question 8.\r\n",
        "#----------\r\n",
        "# Bayesian\r\n",
        "#----------\r\n",
        "library(\"caret\")\r\n",
        "library(\"e1071\")\r\n",
        "library(\"AUC\")\r\n",
        "\r\n",
        "train <- read.csv(\"Credit_train.csv\")\r\n",
        "test <- read.csv(\"Credit_test.csv\")\r\n",
        "\r\n",
        "#train\r\n",
        "model.Bayes <- naiveBayes(DEFAULT~., data = train)\r\n",
        "\r\n",
        "#roc chart\r\n",
        "labels <- as.factor(ifelse(pred.Bayes$target==\"Y\", 1, 0))\r\n",
        "predictions <- pred.Bayes$score\r\n",
        "print(paste(\"Area under the curve:\", auc(roc(predictions, labels), min = 0, max = 1)))\r\n",
        "plot(roc(predictions, labels), min=0, max=1, type=\"l\", main=\"Bayesian Classifier - ROC Chart\")"
      ],
      "execution_count": 83,
      "outputs": [
        {
          "output_type": "stream",
          "text": [
            "[1] \"Area under the curve: 0.709156664607071\"\n"
          ],
          "name": "stdout"
        },
        {
          "output_type": "display_data",
          "data": {
            "image/png": "[encoded data removed]"
          },
          "metadata": {
            "tags": []
          }
        }
      ]
    },
    {
      "cell_type": "code",
      "metadata": {
        "colab": {
          "base_uri": "https://localhost:8080/",
          "height": 514
        },
        "id": "SDRFXzT8VLiI",
        "outputId": "5dc63995-fd01-4f10-e819-948310381fd4"
      },
      "source": [
        "# Question 9.\r\n",
        "%%R\r\n",
        "#---------------\r\n",
        "# Decision tree\r\n",
        "#---------------\r\n",
        "library(caret)\r\n",
        "library(rpart)\r\n",
        "library(rpart.plot)\t\r\n",
        "library(AUC)\r\n",
        "\r\n",
        "#train\r\n",
        "model.Dtree <- rpart(DEFAULT~., data = train, method=\"class\")\r\n",
        "prp(model.Dtree)\r\n",
        "print(\"MAXLINEUTIL is the root node of the decision tree.\")"
      ],
      "execution_count": 84,
      "outputs": [
        {
          "output_type": "stream",
          "text": [
            "[1] \"MAXLINEUTIL is the root node of the decision tree.\"\n"
          ],
          "name": "stdout"
        },
        {
          "output_type": "display_data",
          "data": {
            "image/png": "[encoded data removed]"
          },
          "metadata": {
            "tags": []
          }
        }
      ]
    },
    {
      "cell_type": "code",
      "metadata": {
        "colab": {
          "base_uri": "https://localhost:8080/"
        },
        "id": "MZi8CyhdVkLj",
        "outputId": "b9070377-2aef-498a-f71f-dcf2351c21ec"
      },
      "source": [
        "# Question 10.\r\n",
        "cm = [[17, 5],\r\n",
        "      [392, 4292]]\r\n",
        "# accuracy - (top-left + bottom-right) / all four cells\r\n",
        "accuracy=(cm[0][0]+cm[1][1])/(cm[0][0]+cm[0][1]+cm[1][0]+cm[1][1])\r\n",
        "print ('Accuracy:', accuracy)\r\n",
        "\r\n",
        "# sensitivity\r\n",
        "sensitivity = cm[0][0]/(cm[0][0]+cm[1][0])\r\n",
        "print('Sensitivity:', sensitivity)"
      ],
      "execution_count": 79,
      "outputs": [
        {
          "output_type": "stream",
          "text": [
            "Accuracy: 0.9156396090097747\n",
            "Sensitivity: 0.04156479217603912\n"
          ],
          "name": "stdout"
        }
      ]
    },
    {
      "cell_type": "code",
      "metadata": {
        "colab": {
          "base_uri": "https://localhost:8080/",
          "height": 514
        },
        "id": "GgW-A4pyWjxp",
        "outputId": "a27ec120-0bf4-44b7-8a31-14ec332e9a13"
      },
      "source": [
        "# Question 11.\r\n",
        "%%R\r\n",
        "#lift chart\r\n",
        "pb <- NULL\r\n",
        "pb <- predict(model.Dtree, test)\r\n",
        "pb <- as.data.frame(pb)\r\n",
        "pred.Dtree <- data.frame(test$DEFAULT, pb$Y)\r\n",
        "colnames(pred.Dtree) <- c(\"target\",\"score\")\r\n",
        "\r\n",
        "# roc chart\r\n",
        "labels <- as.factor(ifelse(pred.Dtree$target==\"Y\", 1, 0))\r\n",
        "predictions <- pred.Dtree$score\r\n",
        "print(paste(\"Area under the curve for decision tree model:\", auc(roc(predictions, labels), min = 0, max = 1)))\r\n",
        "plot(roc(predictions, labels), min=0, max=1, type=\"l\", main=\"Decision Tree - ROC Chart\")"
      ],
      "execution_count": 96,
      "outputs": [
        {
          "output_type": "stream",
          "text": [
            "[1] \"Area under the curve for decision tree model: 0.653043083333877\"\n"
          ],
          "name": "stdout"
        },
        {
          "output_type": "display_data",
          "data": {
            "image/png": "[encoded data removed]"
          },
          "metadata": {
            "tags": []
          }
        }
      ]
    },
    {
      "cell_type": "code",
      "metadata": {
        "colab": {
          "base_uri": "https://localhost:8080/"
        },
        "id": "A19NW9tfYjhv",
        "outputId": "b86c1b42-e9a8-4deb-bedc-abdc2c23d20b"
      },
      "source": [
        "# Question 12.\r\n",
        "import math\r\n",
        "\r\n",
        "def entropy(one, two):\r\n",
        "  if one == 0 or two == 0:\r\n",
        "    return 0\r\n",
        "  oneNormal = one/(one+two)\r\n",
        "  twoNormal = two/(one+two)\r\n",
        "  res = -(oneNormal * math.log(oneNormal, 2)) - (twoNormal * math.log(twoNormal, 2))\r\n",
        "  return res \r\n",
        "\r\n",
        "entropy(17373, 1636)"
      ],
      "execution_count": 178,
      "outputs": [
        {
          "output_type": "execute_result",
          "data": {
            "text/plain": [
              "0.4231953698010846"
            ]
          },
          "metadata": {
            "tags": []
          },
          "execution_count": 178
        }
      ]
    },
    {
      "cell_type": "code",
      "metadata": {
        "colab": {
          "base_uri": "https://localhost:8080/"
        },
        "id": "igatge6saHpp",
        "outputId": "02809334-f315-478f-899d-d502f62dc76b"
      },
      "source": [
        "# Question 13.\r\n",
        "from scipy.stats import entropy as entropySP\r\n",
        "\r\n",
        "# def entropyCT(ct):\r\n",
        "#   total = ct.sum().sum()\r\n",
        "#   summed_entropy = 0\r\n",
        "#   for letter in ['A', 'B', 'C', 'D', 'E', 'F']:\r\n",
        "#     row = ct.loc[letter]\r\n",
        "#     segment_e = row.sum()/total * entropy(row['Y'], row['N'])\r\n",
        "#     print(f\"segment_e {letter}: {segment_e}, p: {row.sum()/total}, E: {entropy(row['Y'], row['N'])}\")\r\n",
        "#     summed_entropy += segment_e\r\n",
        "#   return summed_entropy\r\n",
        "\r\n",
        "ct = pd.crosstab(creditDF.dropna()['BUSTYPE'], creditDF.dropna()['DEFAULT'])\r\n",
        "entropySP(ct, base=2)[0]"
      ],
      "execution_count": 211,
      "outputs": [
        {
          "output_type": "execute_result",
          "data": {
            "text/plain": [
              "1.5147434386168481"
            ]
          },
          "metadata": {
            "tags": []
          },
          "execution_count": 211
        }
      ]
    },
    {
      "cell_type": "code",
      "metadata": {
        "colab": {
          "base_uri": "https://localhost:8080/"
        },
        "id": "81-nQEeWkbbH",
        "outputId": "02407269-3cf3-46c9-f486-41d593a5f2f1"
      },
      "source": [
        "# Question 14.\r\n",
        "ct = pd.crosstab(creditDF.dropna()['DAYSDELQ'], creditDF.dropna()['DEFAULT'])\r\n",
        "entropySP(ct, base=2)[0]"
      ],
      "execution_count": 250,
      "outputs": [
        {
          "output_type": "execute_result",
          "data": {
            "text/plain": [
              "0.10831538926159248"
            ]
          },
          "metadata": {
            "tags": []
          },
          "execution_count": 250
        }
      ]
    },
    {
      "cell_type": "code",
      "metadata": {
        "colab": {
          "base_uri": "https://localhost:8080/"
        },
        "id": "ukHmtPMylLnR",
        "outputId": "4061f906-b0fc-4445-c23a-35c4732358c4"
      },
      "source": [
        "# Question 15.\r\n",
        "entropyDefault = entropySP(testDFnoNAN.groupby('DEFAULT').size().values, base=2)\r\n",
        "ct = pd.crosstab(testDFnoNAN['DAYSDELQ'], testDFnoNAN['DEFAULT'])\r\n",
        "entropyDefault - entropySP(ct, base=2)[0]"
      ],
      "execution_count": 282,
      "outputs": [
        {
          "output_type": "execute_result",
          "data": {
            "text/plain": [
              "0.3161571558335841"
            ]
          },
          "metadata": {
            "tags": []
          },
          "execution_count": 282
        }
      ]
    }
  ]
}