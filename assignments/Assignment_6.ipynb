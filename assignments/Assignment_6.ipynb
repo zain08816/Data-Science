{
  "nbformat": 4,
  "nbformat_minor": 0,
  "metadata": {
    "colab": {
      "name": "Assignment_6.ipynb",
      "provenance": [],
      "collapsed_sections": []
    },
    "kernelspec": {
      "name": "python3",
      "display_name": "Python 3"
    },
    "language_info": {
      "name": "python"
    }
  },
  "cells": [
    {
      "cell_type": "code",
      "metadata": {
        "id": "JfDIS42CEhml"
      },
      "source": [
        "%load_ext rpy2.ipython"
      ],
      "execution_count": 1,
      "outputs": []
    },
    {
      "cell_type": "code",
      "metadata": {
        "colab": {
          "base_uri": "https://localhost:8080/"
        },
        "id": "bVAens7ZC6J7",
        "outputId": "f2a25249-938e-43f5-c47f-b4e58dc56aa1"
      },
      "source": [
        "%%R\n",
        "#Read datasets\n",
        "train <- read.csv(\"bike_rental_train.csv\")\n",
        "test <- read.csv(\"bike_rental_test.csv\")\n",
        "\n",
        "#Rows and Cols\n",
        "dim(train)\n",
        "dim(test)\n",
        "\n",
        "#Columns name\n",
        "colnames(train)\n",
        "colnames(test)\n",
        "\n",
        "#Show  \n",
        "head(train)\n",
        "head(test)"
      ],
      "execution_count": 2,
      "outputs": [
        {
          "output_type": "stream",
          "text": [
            "   temp humidity windspeed bike_rent_count\n",
            "1  9.84       81    0.0000              16\n",
            "2 17.22       88   16.9979              37\n",
            "3 16.40       87   16.9979              36\n",
            "4 18.86       94   12.9980               6\n",
            "5 18.86       94   12.9980               3\n",
            "6 14.76       71   16.9979              70\n"
          ],
          "name": "stdout"
        }
      ]
    },
    {
      "cell_type": "code",
      "metadata": {
        "id": "QOo8YnN8ZQTg"
      },
      "source": [
        "import pandas as pd\n",
        "\n",
        "train = pd.read_csv(\"bike_rental_train.csv\").dropna()\n",
        "test = pd.read_csv(\"bike_rental_test.csv\").dropna()"
      ],
      "execution_count": 3,
      "outputs": []
    },
    {
      "cell_type": "code",
      "metadata": {
        "colab": {
          "base_uri": "https://localhost:8080/"
        },
        "id": "iTBq7qbaDh6r",
        "outputId": "66aa3550-5834-4d66-87d2-f6f6288a38cd"
      },
      "source": [
        "%%R\n",
        "# 2. What is RMSE (Root Mean Square of Error) for the ZeroR model (data=test, target=bike_rent_count)?\n",
        "\n",
        "# value_counts = train['bike_rent_count'].value_counts()\n",
        "# predictions = value_counts.to_dict()\n",
        "# # errors = len(train['bike_rent_count']) - predictions\n",
        "# brc = train['bike_rent_count'].tolist()\n",
        "\n",
        "# sum = 0\n",
        "# for count in brc:\n",
        "#   # predicted = \n",
        "#   sum += (5 - count)**2\n",
        "# sum /= len(brc)\n",
        "# sum = sum**0.5\n",
        "\n",
        "# # predictions\n",
        "# # sum = 0\n",
        "# # for prediction in predictions:\n",
        "# #   sum += ((prediction * predictions[prediction]) - (5 * predictions[prediction]))**2\n",
        "\n",
        "# # print(value_counts)\n",
        "# print(brc)\n",
        "# sum\n",
        "# # sum = sum/(len(predictions)-1)\n",
        "# # sum**0.5\n",
        "\n",
        "pred <- mean(train$bike_rent_count)\n",
        "rmse<-sqrt(mean((pred-test$bike_rent_count)^2))\n",
        "rmse"
      ],
      "execution_count": null,
      "outputs": [
        {
          "output_type": "stream",
          "text": [
            "[1] 182.0101\n"
          ],
          "name": "stdout"
        }
      ]
    },
    {
      "cell_type": "code",
      "metadata": {
        "colab": {
          "base_uri": "https://localhost:8080/",
          "height": 514
        },
        "id": "b7vDWOBLagon",
        "outputId": "b2070192-ccec-413d-bbd2-1f153e18b7b0"
      },
      "source": [
        "# 3. What is the best predictor (root node) for the Decision Tree model?\n",
        "%%R\n",
        "#---------------\n",
        "# Decision tree\n",
        "#---------------\n",
        "# library(caret)\n",
        "# install.packages(c(\"rpart\", \"rpart.plot\", \"AUC\"))\n",
        "library(rpart)\n",
        "library(rpart.plot)\t\n",
        "library(AUC)\n",
        "\n",
        "#train\n",
        "model.Dtree <- rpart(bike_rent_count ~., data = train)\n",
        "prp(model.Dtree)\n",
        "print(\"temp is the root node of the decision tree.\")"
      ],
      "execution_count": null,
      "outputs": [
        {
          "output_type": "stream",
          "text": [
            "[1] \"temp is the root node of the decision tree.\"\n"
          ],
          "name": "stdout"
        },
        {
          "output_type": "display_data",
          "data": {
            "image/png": "[encoded data removed]"
          },
          "metadata": {
            "tags": []
          }
        }
      ]
    },
    {
      "cell_type": "code",
      "metadata": {
        "colab": {
          "base_uri": "https://localhost:8080/"
        },
        "id": "cC6OZTDWdg7m",
        "outputId": "c969b64c-ea03-44e6-d212-9a440c25ce5d"
      },
      "source": [
        "%%R\n",
        "# 4. What is RMSE for the Decision Tree model?\n",
        "predictions <- predict(model.Dtree, newdata=test)\n",
        "errors <- test$bike_rent_count - predictions \n",
        "rmse <- sqrt(mean((errors^2)))\n",
        "rmse"
      ],
      "execution_count": null,
      "outputs": [
        {
          "output_type": "stream",
          "text": [
            "[1] 155.1006\n"
          ],
          "name": "stdout"
        }
      ]
    },
    {
      "cell_type": "code",
      "metadata": {
        "id": "AE0sTnyNEqYe",
        "colab": {
          "base_uri": "https://localhost:8080/"
        },
        "outputId": "b4592d1e-d2e0-4661-9e5a-9d1eeb25aa07"
      },
      "source": [
        "%%R\n",
        "# 6. What is RMSE for the Multiple Regression model?\n",
        "# 7. What is RMSE for the Multiple Regression model if we only use two predictors (temp and humidity)?\n",
        "#----------------------------\n",
        "# Multiple Linear Regression\n",
        "#----------------------------\n",
        "\n",
        "#Train\n",
        "model.MLR <- lm(bike_rent_count ~., data=train)\n",
        "summary(model.MLR)\n",
        "\n",
        "#Residual plot\n",
        "res.MLR = resid(model.MLR)\n",
        "# plot(train$temp, res.MLR, ylab=\"Residuals\", xlab=\"Temperature\", main=\"Residual Plot\") \n",
        "# abline(0, 0)\n",
        "\n",
        "#Q-Q plot\n",
        "stdres.MLR = rstandard(model.MLR)\n",
        "# qqnorm(stdres.MLR, ylab=\"Standardized Residuals\", xlab=\"Normal Scores\", main=\"QQ Plot\") \n",
        "# qqline(stdres.MLR)\n",
        "\n",
        "#Test\n",
        "predictions <- predict(model.MLR, newdata=test)\n",
        "errors <- test$bike_rent_count - predictions \n",
        "rmse <- sqrt(mean((errors^2)))\n",
        "\n",
        "#Erros histogram\n",
        "# hist(errors, main=\"bike_rent_count\", sub=\"(Actual-Predicted)\", xlab=\"Error\", breaks=10, col=\"darkred\")\n",
        "print(rmse)"
      ],
      "execution_count": null,
      "outputs": [
        {
          "output_type": "stream",
          "text": [
            "[1] 155.967\n"
          ],
          "name": "stdout"
        }
      ]
    },
    {
      "cell_type": "code",
      "metadata": {
        "id": "QleKvyt-hN1X",
        "colab": {
          "base_uri": "https://localhost:8080/"
        },
        "outputId": "85102715-d0d9-418b-da72-6f80d2b1cbd1"
      },
      "source": [
        "#8 What is RMSE for the KNN model (K=5, distance = 2, scale=FALSE)?\n",
        "from sklearn.neighbors import KNeighborsRegressor\n",
        "\n",
        "knn = KNeighborsRegressor(n_neighbors=5, radius=2)\n",
        "\n",
        "knn.fit(train[['temp', 'windspeed', 'humidity']], train['bike_rent_count'])\n",
        "\n",
        "predictions = knn.predict(test[['temp', 'windspeed', 'humidity']])\n",
        "\n",
        "# Get the actual values for the test set.\n",
        "actual = test['bike_rent_count']\n",
        "\n",
        "# Compute the mean squared error of our predictions.\n",
        "mse = ((((predictions - actual) ** 2).sum()) / len(predictions))**0.5\n",
        "mse\n"
      ],
      "execution_count": 13,
      "outputs": [
        {
          "output_type": "execute_result",
          "data": {
            "text/plain": [
              "162.82961358397873"
            ]
          },
          "metadata": {
            "tags": []
          },
          "execution_count": 13
        }
      ]
    },
    {
      "cell_type": "code",
      "metadata": {
        "colab": {
          "base_uri": "https://localhost:8080/"
        },
        "id": "QueSi6G-lh-m",
        "outputId": "7a91aef3-6440-4f98-91fb-3bd192d458ff"
      },
      "source": [
        "#9 What is RMSE for the KNN model (K=3, distance = 2, scale=FALSE)?\n",
        "from sklearn.neighbors import KNeighborsRegressor\n",
        "\n",
        "knn = KNeighborsRegressor(n_neighbors=3, radius=2)\n",
        "\n",
        "knn.fit(train[['temp', 'windspeed', 'humidity']], train['bike_rent_count'])\n",
        "\n",
        "predictions = knn.predict(test[['temp', 'windspeed', 'humidity']])\n",
        "\n",
        "actual = test['bike_rent_count']\n",
        "\n",
        "mse = ((((predictions - actual) ** 2).sum()) / len(predictions))**0.5\n",
        "mse"
      ],
      "execution_count": 14,
      "outputs": [
        {
          "output_type": "execute_result",
          "data": {
            "text/plain": [
              "171.1838610550489"
            ]
          },
          "metadata": {
            "tags": []
          },
          "execution_count": 14
        }
      ]
    },
    {
      "cell_type": "code",
      "metadata": {
        "colab": {
          "base_uri": "https://localhost:8080/"
        },
        "id": "eOznWiVAmC3T",
        "outputId": "20de3c0f-ea0b-4e60-e29f-e201b40e66eb"
      },
      "source": [
        "%%R\n",
        "#11. What is RMSE for the Support Vector Regression model?\n",
        "\n",
        "#--------------------------------------\n",
        "# Support Vector Machines - Regression\n",
        "#--------------------------------------\n",
        "library(e1071)\n",
        "# install.packages('e1071')\n",
        "\n",
        "#Train\n",
        "model.SVR <- svm(bike_rent_count~., train)\n",
        "summary(model.SVR)\n",
        "\n",
        "#Test\n",
        "pred.SVR <- predict(model.SVR, newdata=test)\n",
        "err.SVR <- test$bike_rent_count - pred.SVR \n",
        "rmse.SVR <- sqrt(mean((err.SVR^2)))\n",
        "rmse.SVR\n",
        "\n",
        "\n"
      ],
      "execution_count": 17,
      "outputs": [
        {
          "output_type": "stream",
          "text": [
            "[1] 154.427\n"
          ],
          "name": "stdout"
        }
      ]
    }
  ]
}