{
  "nbformat": 4,
  "nbformat_minor": 0,
  "metadata": {
    "colab": {
      "name": "assignment_3.ipynb",
      "provenance": [],
      "collapsed_sections": []
    },
    "kernelspec": {
      "name": "python3",
      "display_name": "Python 3"
    }
  },
  "cells": [
    {
      "cell_type": "code",
      "metadata": {
        "colab": {
          "base_uri": "https://localhost:8080/"
        },
        "id": "zrbgiLqybneE",
        "outputId": "23f6d1d5-5238-4890-fd65-907e451d6af6"
      },
      "source": [
        "import pandas as pd\n",
        "import io\n",
        "\n",
        "df_train = pd.read_csv('Credit_train.csv')\n",
        "\n",
        "print(df_train)\n"
      ],
      "execution_count": 2,
      "outputs": [
        {
          "output_type": "stream",
          "text": [
            "       BUSAGE BUSTYPE  MAXLINEUTIL  DAYSDELQ  TOTACBAL DEFAULT\n",
            "0       183.0       B          0.0       0.0      0.24       N\n",
            "1       271.0       E          0.0       0.0      1.37       N\n",
            "2        51.0       A          0.0       0.0      1.52       N\n",
            "3       208.0       A          0.0       0.0      1.64       N\n",
            "4       148.0       A          0.0       0.0      1.78       N\n",
            "...       ...     ...          ...       ...       ...     ...\n",
            "28422     NaN       F          NaN       NaN       NaN       N\n",
            "28423     NaN       C          NaN       NaN       NaN       N\n",
            "28424     NaN       C          NaN       NaN       NaN       N\n",
            "28425     NaN       B          NaN       NaN       NaN       N\n",
            "28426     NaN       A          NaN       NaN       NaN       N\n",
            "\n",
            "[28427 rows x 6 columns]\n"
          ],
          "name": "stdout"
        }
      ]
    },
    {
      "cell_type": "code",
      "metadata": {
        "colab": {
          "base_uri": "https://localhost:8080/"
        },
        "id": "YuCHKqNVcSFp",
        "outputId": "76559e68-93b7-4f5c-e698-b3c94214f0db"
      },
      "source": [
        "cors_train = df_train.corr()\n",
        "\n",
        "print(cors_train)"
      ],
      "execution_count": null,
      "outputs": [
        {
          "output_type": "stream",
          "text": [
            "               BUSAGE  MAXLINEUTIL  DAYSDELQ  TOTACBAL\n",
            "BUSAGE       1.000000    -0.031004 -0.023013  0.075082\n",
            "MAXLINEUTIL -0.031004     1.000000  0.067837  0.517829\n",
            "DAYSDELQ    -0.023013     0.067837  1.000000 -0.036848\n",
            "TOTACBAL     0.075082     0.517829 -0.036848  1.000000\n"
          ],
          "name": "stdout"
        }
      ]
    },
    {
      "cell_type": "code",
      "metadata": {
        "colab": {
          "base_uri": "https://localhost:8080/"
        },
        "id": "jsrVjKxGelKz",
        "outputId": "51fcd62d-7e32-42b0-d0c5-04bbdcbfc6e3"
      },
      "source": [
        "#1. Which two variables have the largest positive correlation?\n",
        "cors_train['MAXLINEUTIL']['TOTACBAL']"
      ],
      "execution_count": null,
      "outputs": [
        {
          "output_type": "execute_result",
          "data": {
            "text/plain": [
              "0.5178285871274139"
            ]
          },
          "metadata": {
            "tags": []
          },
          "execution_count": 9
        }
      ]
    },
    {
      "cell_type": "code",
      "metadata": {
        "colab": {
          "base_uri": "https://localhost:8080/"
        },
        "id": "74nY46dretUD",
        "outputId": "a3b67faa-410d-4741-87ba-ce13e3853e48"
      },
      "source": [
        "#2. Which two variables have the smallest positive correlation?\n",
        "cors_train['MAXLINEUTIL']['DAYSDELQ']"
      ],
      "execution_count": null,
      "outputs": [
        {
          "output_type": "execute_result",
          "data": {
            "text/plain": [
              "0.0678372438410162"
            ]
          },
          "metadata": {
            "tags": []
          },
          "execution_count": 10
        }
      ]
    },
    {
      "cell_type": "code",
      "metadata": {
        "colab": {
          "base_uri": "https://localhost:8080/"
        },
        "id": "uZxvsB0OewWQ",
        "outputId": "a7d1009a-0fdc-4344-cee3-204f496d1e18"
      },
      "source": [
        "#3. Which two variables have the smallest absolute correlation (closest to zero)?\n",
        "cors_train['BUSAGE']['DAYSDELQ']"
      ],
      "execution_count": null,
      "outputs": [
        {
          "output_type": "execute_result",
          "data": {
            "text/plain": [
              "-0.023013284542656044"
            ]
          },
          "metadata": {
            "tags": []
          },
          "execution_count": 15
        }
      ]
    },
    {
      "cell_type": "code",
      "metadata": {
        "colab": {
          "base_uri": "https://localhost:8080/"
        },
        "id": "wSQqrNgzgAgq",
        "outputId": "e19c0e4f-86ef-42ef-eddb-13b548ad7f46"
      },
      "source": [
        "cov_train = df_train.cov()\n",
        "\n",
        "print(cov_train)"
      ],
      "execution_count": null,
      "outputs": [
        {
          "output_type": "stream",
          "text": [
            "                    BUSAGE  MAXLINEUTIL     DAYSDELQ      TOTACBAL\n",
            "BUSAGE        10737.355089    -1.387138   -16.841434  1.773395e+05\n",
            "MAXLINEUTIL      -1.387138     0.185473     0.189120  5.069575e+03\n",
            "DAYSDELQ        -16.841434     0.189120    49.586702 -5.990735e+03\n",
            "TOTACBAL     177339.498909  5069.574860 -5990.735403  5.158225e+08\n"
          ],
          "name": "stdout"
        }
      ]
    },
    {
      "cell_type": "code",
      "metadata": {
        "colab": {
          "base_uri": "https://localhost:8080/"
        },
        "id": "qC2C3ykbe-n2",
        "outputId": "d4588855-633b-4030-af4f-6d2f81554b59"
      },
      "source": [
        "#4. Which two variables have the largest positive covariance?\n",
        "cov_train['BUSAGE']['TOTACBAL']"
      ],
      "execution_count": null,
      "outputs": [
        {
          "output_type": "execute_result",
          "data": {
            "text/plain": [
              "177339.49890891594"
            ]
          },
          "metadata": {
            "tags": []
          },
          "execution_count": 17
        }
      ]
    },
    {
      "cell_type": "code",
      "metadata": {
        "colab": {
          "base_uri": "https://localhost:8080/"
        },
        "id": "Kj5EJ74OfBdc",
        "outputId": "a3647169-53ce-4d59-f124-f000380db464"
      },
      "source": [
        "#5. Which two variables have the largest negative covariance?\n",
        "cov_train['TOTACBAL']['DAYSDELQ']"
      ],
      "execution_count": null,
      "outputs": [
        {
          "output_type": "execute_result",
          "data": {
            "text/plain": [
              "-5990.735402865272"
            ]
          },
          "metadata": {
            "tags": []
          },
          "execution_count": 18
        }
      ]
    },
    {
      "cell_type": "code",
      "metadata": {
        "colab": {
          "base_uri": "https://localhost:8080/"
        },
        "id": "FDCFsh0NfE3R",
        "outputId": "bbe938d2-e9fd-4884-b20c-640414a332d5"
      },
      "source": [
        "#6. Which two variables have the smallest absolute covariance (closest to zero)?\n",
        "cov_train['MAXLINEUTIL']['DAYSDELQ']"
      ],
      "execution_count": null,
      "outputs": [
        {
          "output_type": "execute_result",
          "data": {
            "text/plain": [
              "0.1891196315135084"
            ]
          },
          "metadata": {
            "tags": []
          },
          "execution_count": 19
        }
      ]
    },
    {
      "cell_type": "code",
      "metadata": {
        "colab": {
          "base_uri": "https://localhost:8080/"
        },
        "id": "8_UCkR7OhGWK",
        "outputId": "838b962c-240f-4093-9ef0-8c9b054f13b0"
      },
      "source": [
        "#8. What is the Chi-squared value for BUSTYPE and DEFAULT?\n",
        "#9. What is the probability of Chi-squared value for BUSTYPE and DEFAULT?\n",
        "from scipy import stats\n",
        "df_train = df_train.dropna()\n",
        "\n",
        "cols_chi = pd.crosstab(df_train['DEFAULT'], df_train['BUSTYPE'])\n",
        "value, probablity,_ , _ = stats.chi2_contingency(cols_chi)\n",
        "print(value)\n",
        "print(probablity)"
      ],
      "execution_count": 30,
      "outputs": [
        {
          "output_type": "stream",
          "text": [
            "9.854810976379643\n",
            "0.07945520439051039\n"
          ],
          "name": "stdout"
        }
      ]
    },
    {
      "cell_type": "code",
      "metadata": {
        "colab": {
          "base_uri": "https://localhost:8080/"
        },
        "id": "NCnQeeTxl5Wf",
        "outputId": "d946b0c7-0288-4011-b4c5-42c893489c7b"
      },
      "source": [
        "#10. What is the absolute Z value for DAYSDELQ and DEFAULT?\n",
        "import math\n",
        "a = df_train.loc[df_train['DEFAULT'] == 'Y']['DAYSDELQ']\n",
        "b = df_train.loc[df_train['DEFAULT'] == 'N']['DAYSDELQ']\n",
        "n1 = a.size\n",
        "n2 = b.size\n",
        "\n",
        "z = (a.mean() - b.mean()) / (math.sqrt(a.var()/n1 + b.var()/n2))\n",
        "z"
      ],
      "execution_count": 12,
      "outputs": [
        {
          "output_type": "execute_result",
          "data": {
            "text/plain": [
              "6.445538714014318"
            ]
          },
          "metadata": {
            "tags": []
          },
          "execution_count": 12
        }
      ]
    },
    {
      "cell_type": "code",
      "metadata": {
        "id": "pqjQAxRTzKRX",
        "colab": {
          "base_uri": "https://localhost:8080/"
        },
        "outputId": "71142d73-c91f-4fc0-aff7-22073c773b27"
      },
      "source": [
        "#11. What is the probability of Z value for TOTACBAL and DEFAULT?\n",
        "import numpy as np\n",
        "a = df_train.loc[df_train['DEFAULT'] == 'Y']['TOTACBAL']\n",
        "b = df_train.loc[df_train['DEFAULT'] == 'N']['TOTACBAL']\n",
        "n1 = a.size\n",
        "n2 = b.size\n",
        "z = (a.mean() - b.mean()) / (math.sqrt(a.var()/n1 + b.var()/n2))\n",
        "pz = 1-(stats.norm.cdf(abs(z))-0.5)*2\n",
        "pz"
      ],
      "execution_count": 26,
      "outputs": [
        {
          "output_type": "execute_result",
          "data": {
            "text/plain": [
              "6.661338147750939e-16"
            ]
          },
          "metadata": {
            "tags": []
          },
          "execution_count": 26
        }
      ]
    },
    {
      "cell_type": "code",
      "metadata": {
        "colab": {
          "base_uri": "https://localhost:8080/"
        },
        "id": "Nxw32DpmA_5A",
        "outputId": "7fbdf3c0-fb1e-4dce-b6c0-67a1f4862bf4"
      },
      "source": [
        "#12. What is the absolute Z value for BUSAGE and DEFAULT?\n",
        "a = df_train.loc[df_train['DEFAULT'] == 'Y']['BUSAGE']\n",
        "b = df_train.loc[df_train['DEFAULT'] == 'N']['BUSAGE']\n",
        "n1 = a.size\n",
        "n2 = b.size\n",
        "z = (a.mean() - b.mean()) / (math.sqrt(a.var()/n1 + b.var()/n2))\n",
        "abs(z)"
      ],
      "execution_count": 28,
      "outputs": [
        {
          "output_type": "execute_result",
          "data": {
            "text/plain": [
              "13.946103462091965"
            ]
          },
          "metadata": {
            "tags": []
          },
          "execution_count": 28
        }
      ]
    },
    {
      "cell_type": "code",
      "metadata": {
        "colab": {
          "base_uri": "https://localhost:8080/"
        },
        "id": "eIVxTHPZBN0N",
        "outputId": "7916a935-2e79-4148-9a0f-2ef6e84033bf"
      },
      "source": [
        "#13. What is the absolute Z value for MAXLINEUTIL and DEFAULT?\n",
        "a = df_train.loc[df_train['DEFAULT'] == 'Y']['MAXLINEUTIL']\n",
        "b = df_train.loc[df_train['DEFAULT'] == 'N']['MAXLINEUTIL']\n",
        "n1 = a.size\n",
        "n2 = b.size\n",
        "z = (a.mean() - b.mean()) / (math.sqrt(a.var()/n1 + b.var()/n2))\n",
        "abs(z)"
      ],
      "execution_count": 35,
      "outputs": [
        {
          "output_type": "execute_result",
          "data": {
            "text/plain": [
              "24.82390974084837"
            ]
          },
          "metadata": {
            "tags": []
          },
          "execution_count": 35
        }
      ]
    },
    {
      "cell_type": "code",
      "metadata": {
        "colab": {
          "base_uri": "https://localhost:8080/"
        },
        "id": "IB7dWneiBlLY",
        "outputId": "e5b966d7-178f-48c7-a6d8-ab8ce33e8b9b"
      },
      "source": [
        "#14. Using ANOVA which numerical variable has the highest F value against BUSTYPE?\n",
        "def getF(col):\n",
        "  A = df_train.loc[df_train['BUSTYPE'] == 'A'][col]\n",
        "  B = df_train.loc[df_train['BUSTYPE'] == 'B'][col]\n",
        "  C = df_train.loc[df_train['BUSTYPE'] == 'C'][col]\n",
        "  D = df_train.loc[df_train['BUSTYPE'] == 'D'][col]\n",
        "  E = df_train.loc[df_train['BUSTYPE'] == 'E'][col]\n",
        "  F = df_train.loc[df_train['BUSTYPE'] == 'F'][col]\n",
        "  \n",
        "  f, _ = stats.f_oneway(A, B, C, D, E, F)\n",
        "  print('F Value of', col, ':', f)\n",
        "\n",
        "for col in ['TOTACBAL', 'MAXLINEUTIL', 'DAYSDELQ', 'BUSAGE']:\n",
        "  getF(col)\n"
      ],
      "execution_count": 61,
      "outputs": [
        {
          "output_type": "stream",
          "text": [
            "F Value of TOTACBAL : 16.386265224665582\n",
            "F Value of MAXLINEUTIL : 7.640268478515453\n",
            "F Value of DAYSDELQ : 0.3865141103806092\n",
            "F Value of BUSAGE : 40.39808861013747\n"
          ],
          "name": "stdout"
        }
      ]
    }
  ]
}